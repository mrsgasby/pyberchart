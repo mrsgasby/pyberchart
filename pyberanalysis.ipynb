{
 "cells": [
  {
   "cell_type": "code",
   "execution_count": 101,
   "metadata": {},
   "outputs": [],
   "source": [
    "# Import Dependencies\n",
    "import matplotlib.pyplot as plt\n",
    "import seaborn as sns\n",
    "import pandas as pd\n",
    "import numpy as np"
   ]
  },
  {
   "cell_type": "code",
   "execution_count": 102,
   "metadata": {},
   "outputs": [],
   "source": [
    "# declare file path\n",
    "citydata_csv = \"raw_data/city_data.csv\"\n",
    "ridedata_csv = \"raw_data/ride_data.csv\""
   ]
  },
  {
   "cell_type": "code",
   "execution_count": 103,
   "metadata": {},
   "outputs": [],
   "source": [
    "# read data file\n",
    "citydata_df = pd.read_csv(citydata_csv)\n",
    "ridedata_df = pd.read_csv(ridedata_csv)"
   ]
  },
  {
   "cell_type": "code",
   "execution_count": 104,
   "metadata": {},
   "outputs": [
    {
     "data": {
      "text/html": [
       "<div>\n",
       "<style scoped>\n",
       "    .dataframe tbody tr th:only-of-type {\n",
       "        vertical-align: middle;\n",
       "    }\n",
       "\n",
       "    .dataframe tbody tr th {\n",
       "        vertical-align: top;\n",
       "    }\n",
       "\n",
       "    .dataframe thead th {\n",
       "        text-align: right;\n",
       "    }\n",
       "</style>\n",
       "<table border=\"1\" class=\"dataframe\">\n",
       "  <thead>\n",
       "    <tr style=\"text-align: right;\">\n",
       "      <th></th>\n",
       "      <th>city</th>\n",
       "      <th>driver_count</th>\n",
       "      <th>type</th>\n",
       "    </tr>\n",
       "  </thead>\n",
       "  <tbody>\n",
       "    <tr>\n",
       "      <th>0</th>\n",
       "      <td>Tammyburgh</td>\n",
       "      <td>11</td>\n",
       "      <td>Urban</td>\n",
       "    </tr>\n",
       "    <tr>\n",
       "      <th>1</th>\n",
       "      <td>Melissaborough</td>\n",
       "      <td>15</td>\n",
       "      <td>Urban</td>\n",
       "    </tr>\n",
       "    <tr>\n",
       "      <th>2</th>\n",
       "      <td>Port Brianborough</td>\n",
       "      <td>62</td>\n",
       "      <td>Urban</td>\n",
       "    </tr>\n",
       "    <tr>\n",
       "      <th>3</th>\n",
       "      <td>New Katherine</td>\n",
       "      <td>68</td>\n",
       "      <td>Urban</td>\n",
       "    </tr>\n",
       "    <tr>\n",
       "      <th>4</th>\n",
       "      <td>Lake Charlesside</td>\n",
       "      <td>65</td>\n",
       "      <td>Urban</td>\n",
       "    </tr>\n",
       "  </tbody>\n",
       "</table>\n",
       "</div>"
      ],
      "text/plain": [
       "                city  driver_count   type\n",
       "0         Tammyburgh            11  Urban\n",
       "1     Melissaborough            15  Urban\n",
       "2  Port Brianborough            62  Urban\n",
       "3      New Katherine            68  Urban\n",
       "4   Lake Charlesside            65  Urban"
      ]
     },
     "execution_count": 104,
     "metadata": {},
     "output_type": "execute_result"
    }
   ],
   "source": [
    "# check sample data\n",
    "citydata_df.head()"
   ]
  },
  {
   "cell_type": "code",
   "execution_count": 105,
   "metadata": {},
   "outputs": [
    {
     "data": {
      "text/html": [
       "<div>\n",
       "<style scoped>\n",
       "    .dataframe tbody tr th:only-of-type {\n",
       "        vertical-align: middle;\n",
       "    }\n",
       "\n",
       "    .dataframe tbody tr th {\n",
       "        vertical-align: top;\n",
       "    }\n",
       "\n",
       "    .dataframe thead th {\n",
       "        text-align: right;\n",
       "    }\n",
       "</style>\n",
       "<table border=\"1\" class=\"dataframe\">\n",
       "  <thead>\n",
       "    <tr style=\"text-align: right;\">\n",
       "      <th></th>\n",
       "      <th>city</th>\n",
       "      <th>date</th>\n",
       "      <th>fare</th>\n",
       "      <th>ride_id</th>\n",
       "    </tr>\n",
       "  </thead>\n",
       "  <tbody>\n",
       "    <tr>\n",
       "      <th>0</th>\n",
       "      <td>Karenfurt</td>\n",
       "      <td>2017-01-01 19:03:03</td>\n",
       "      <td>32.90</td>\n",
       "      <td>3383346995405</td>\n",
       "    </tr>\n",
       "    <tr>\n",
       "      <th>1</th>\n",
       "      <td>Melissaborough</td>\n",
       "      <td>2017-01-01 08:55:58</td>\n",
       "      <td>19.59</td>\n",
       "      <td>2791839504576</td>\n",
       "    </tr>\n",
       "    <tr>\n",
       "      <th>2</th>\n",
       "      <td>Port Sandraport</td>\n",
       "      <td>2017-01-01 16:21:54</td>\n",
       "      <td>31.04</td>\n",
       "      <td>3341437383289</td>\n",
       "    </tr>\n",
       "    <tr>\n",
       "      <th>3</th>\n",
       "      <td>Curtismouth</td>\n",
       "      <td>2017-01-03 06:36:53</td>\n",
       "      <td>15.12</td>\n",
       "      <td>6557246300691</td>\n",
       "    </tr>\n",
       "    <tr>\n",
       "      <th>4</th>\n",
       "      <td>Port Michael</td>\n",
       "      <td>2017-01-03 09:56:52</td>\n",
       "      <td>19.65</td>\n",
       "      <td>9887635746234</td>\n",
       "    </tr>\n",
       "  </tbody>\n",
       "</table>\n",
       "</div>"
      ],
      "text/plain": [
       "              city                 date   fare        ride_id\n",
       "0        Karenfurt  2017-01-01 19:03:03  32.90  3383346995405\n",
       "1   Melissaborough  2017-01-01 08:55:58  19.59  2791839504576\n",
       "2  Port Sandraport  2017-01-01 16:21:54  31.04  3341437383289\n",
       "3      Curtismouth  2017-01-03 06:36:53  15.12  6557246300691\n",
       "4     Port Michael  2017-01-03 09:56:52  19.65  9887635746234"
      ]
     },
     "execution_count": 105,
     "metadata": {},
     "output_type": "execute_result"
    }
   ],
   "source": [
    "# check sample data\n",
    "ridedata_df.head()"
   ]
  },
  {
   "cell_type": "code",
   "execution_count": 106,
   "metadata": {},
   "outputs": [
    {
     "data": {
      "text/html": [
       "<div>\n",
       "<style scoped>\n",
       "    .dataframe tbody tr th:only-of-type {\n",
       "        vertical-align: middle;\n",
       "    }\n",
       "\n",
       "    .dataframe tbody tr th {\n",
       "        vertical-align: top;\n",
       "    }\n",
       "\n",
       "    .dataframe thead th {\n",
       "        text-align: right;\n",
       "    }\n",
       "</style>\n",
       "<table border=\"1\" class=\"dataframe\">\n",
       "  <thead>\n",
       "    <tr style=\"text-align: right;\">\n",
       "      <th></th>\n",
       "      <th>city</th>\n",
       "      <th>date</th>\n",
       "      <th>fare</th>\n",
       "      <th>ride_id</th>\n",
       "      <th>driver_count</th>\n",
       "      <th>type</th>\n",
       "    </tr>\n",
       "  </thead>\n",
       "  <tbody>\n",
       "    <tr>\n",
       "      <th>0</th>\n",
       "      <td>Karenfurt</td>\n",
       "      <td>2017-01-01 19:03:03</td>\n",
       "      <td>32.90</td>\n",
       "      <td>3383346995405</td>\n",
       "      <td>19</td>\n",
       "      <td>Urban</td>\n",
       "    </tr>\n",
       "    <tr>\n",
       "      <th>1</th>\n",
       "      <td>Karenfurt</td>\n",
       "      <td>2017-01-01 05:30:46</td>\n",
       "      <td>22.47</td>\n",
       "      <td>18848561829</td>\n",
       "      <td>19</td>\n",
       "      <td>Urban</td>\n",
       "    </tr>\n",
       "    <tr>\n",
       "      <th>2</th>\n",
       "      <td>Karenfurt</td>\n",
       "      <td>2017-01-02 21:58:48</td>\n",
       "      <td>4.73</td>\n",
       "      <td>7929949609958</td>\n",
       "      <td>19</td>\n",
       "      <td>Urban</td>\n",
       "    </tr>\n",
       "    <tr>\n",
       "      <th>3</th>\n",
       "      <td>Karenfurt</td>\n",
       "      <td>2017-01-01 03:36:42</td>\n",
       "      <td>21.65</td>\n",
       "      <td>2940464578531</td>\n",
       "      <td>19</td>\n",
       "      <td>Urban</td>\n",
       "    </tr>\n",
       "    <tr>\n",
       "      <th>4</th>\n",
       "      <td>Karenfurt</td>\n",
       "      <td>2017-01-03 04:34:51</td>\n",
       "      <td>34.87</td>\n",
       "      <td>2170143080929</td>\n",
       "      <td>19</td>\n",
       "      <td>Urban</td>\n",
       "    </tr>\n",
       "  </tbody>\n",
       "</table>\n",
       "</div>"
      ],
      "text/plain": [
       "        city                 date   fare        ride_id  driver_count   type\n",
       "0  Karenfurt  2017-01-01 19:03:03  32.90  3383346995405            19  Urban\n",
       "1  Karenfurt  2017-01-01 05:30:46  22.47    18848561829            19  Urban\n",
       "2  Karenfurt  2017-01-02 21:58:48   4.73  7929949609958            19  Urban\n",
       "3  Karenfurt  2017-01-01 03:36:42  21.65  2940464578531            19  Urban\n",
       "4  Karenfurt  2017-01-03 04:34:51  34.87  2170143080929            19  Urban"
      ]
     },
     "execution_count": 106,
     "metadata": {},
     "output_type": "execute_result"
    }
   ],
   "source": [
    "# merge the two dataframes based on common field city\n",
    "cityride_df = pd.merge(ridedata_df, citydata_df, on=\"city\")\n",
    "cityride_df.head()"
   ]
  },
  {
   "cell_type": "code",
   "execution_count": 107,
   "metadata": {},
   "outputs": [],
   "source": [
    "# group data by city\n",
    "city_group = cityride_df.groupby('city')\n",
    "\n",
    "# get total ride per city\n",
    "totalride_percity = city_group['ride_id'].count()\n",
    "\n",
    "# get average fare per city\n",
    "avgfare_percity = city_group['fare'].mean()"
   ]
  },
  {
   "cell_type": "code",
   "execution_count": 108,
   "metadata": {},
   "outputs": [
    {
     "data": {
      "text/html": [
       "<div>\n",
       "<style scoped>\n",
       "    .dataframe tbody tr th:only-of-type {\n",
       "        vertical-align: middle;\n",
       "    }\n",
       "\n",
       "    .dataframe tbody tr th {\n",
       "        vertical-align: top;\n",
       "    }\n",
       "\n",
       "    .dataframe thead th {\n",
       "        text-align: right;\n",
       "    }\n",
       "</style>\n",
       "<table border=\"1\" class=\"dataframe\">\n",
       "  <thead>\n",
       "    <tr style=\"text-align: right;\">\n",
       "      <th></th>\n",
       "      <th>totalride_percity</th>\n",
       "      <th>avgfare_percity</th>\n",
       "    </tr>\n",
       "    <tr>\n",
       "      <th>city</th>\n",
       "      <th></th>\n",
       "      <th></th>\n",
       "    </tr>\n",
       "  </thead>\n",
       "  <tbody>\n",
       "    <tr>\n",
       "      <th>Adamschester</th>\n",
       "      <td>9</td>\n",
       "      <td>29.594444</td>\n",
       "    </tr>\n",
       "    <tr>\n",
       "      <th>Alexisfort</th>\n",
       "      <td>33</td>\n",
       "      <td>27.366970</td>\n",
       "    </tr>\n",
       "    <tr>\n",
       "      <th>Amberberg</th>\n",
       "      <td>16</td>\n",
       "      <td>28.624375</td>\n",
       "    </tr>\n",
       "    <tr>\n",
       "      <th>Anthonyfurt</th>\n",
       "      <td>17</td>\n",
       "      <td>29.491176</td>\n",
       "    </tr>\n",
       "    <tr>\n",
       "      <th>Boyleberg</th>\n",
       "      <td>5</td>\n",
       "      <td>32.396000</td>\n",
       "    </tr>\n",
       "  </tbody>\n",
       "</table>\n",
       "</div>"
      ],
      "text/plain": [
       "              totalride_percity  avgfare_percity\n",
       "city                                            \n",
       "Adamschester                  9        29.594444\n",
       "Alexisfort                   33        27.366970\n",
       "Amberberg                    16        28.624375\n",
       "Anthonyfurt                  17        29.491176\n",
       "Boyleberg                     5        32.396000"
      ]
     },
     "execution_count": 108,
     "metadata": {},
     "output_type": "execute_result"
    }
   ],
   "source": [
    "# Create empty dataframe\n",
    "df = pd.DataFrame()\n",
    "\n",
    "# Add summarized columns\n",
    "df['totalride_percity'] = totalride_percity\n",
    "df['avgfare_percity'] = avgfare_percity\n",
    "df.head()"
   ]
  },
  {
   "cell_type": "code",
   "execution_count": 109,
   "metadata": {},
   "outputs": [
    {
     "data": {
      "text/plain": [
       "<seaborn.axisgrid.FacetGrid at 0x1a1f63a588>"
      ]
     },
     "execution_count": 109,
     "metadata": {},
     "output_type": "execute_result"
    },
    {
     "data": {
      "image/png": "[encoded data removed]",
      "text/plain": [
       "<matplotlib.figure.Figure at 0x1a1f63a780>"
      ]
     },
     "metadata": {},
     "output_type": "display_data"
    }
   ],
   "source": [
    "# use seaborn library to plot\n",
    "display = sns.lmplot('totalride_percity', 'avgfare_percity',data = df, fit_reg=False, scatter_kws={\"marker\": \"D\",\n",
    "                        \"s\": 250})\n",
    "display.set(xlabel='Total Number of rides (Per City)', ylabel='Average Fare ($)', title = 'Pyber Ride Sharing Data')\n"
   ]
  },
  {
   "cell_type": "code",
   "execution_count": 110,
   "metadata": {},
   "outputs": [
    {
     "data": {
      "text/plain": [
       "type\n",
       "Rural        4271.69\n",
       "Suburban    18779.26\n",
       "Urban       40093.25\n",
       "Name: fare, dtype: float64"
      ]
     },
     "execution_count": 110,
     "metadata": {},
     "output_type": "execute_result"
    }
   ],
   "source": [
    "# group data by 'city type'\n",
    "type_group = cityride_df.groupby('type')\n",
    "\n",
    "# get total fare by city type\n",
    "totalfare_sum = type_group['fare'].sum()\n",
    "totalfare_sum"
   ]
  },
  {
   "cell_type": "code",
   "execution_count": 111,
   "metadata": {},
   "outputs": [],
   "source": [
    "# Labels for the sections of our pie chart\n",
    "labels = [\"Rural\", \"Suburban\", \"Urban\"]\n",
    "\n",
    "# The colors of each section of the pie chart\n",
    "colors = [\"yellow\", \"lightskyblue\", \"lightcoral\"]\n",
    "\n",
    "# Tells matplotlib to seperate the \"Python\" section from the others\n",
    "explode = (0, 0.1, 0)\n"
   ]
  },
  {
   "cell_type": "code",
   "execution_count": 112,
   "metadata": {},
   "outputs": [
    {
     "data": {
      "text/plain": [
       "Text(0.5,1,'% of Total Fares by City Type')"
      ]
     },
     "execution_count": 112,
     "metadata": {},
     "output_type": "execute_result"
    },
    {
     "data": {
      "image/png": "[encoded data removed]",
      "text/plain": [
       "<matplotlib.figure.Figure at 0x1a1f7de278>"
      ]
     },
     "metadata": {},
     "output_type": "display_data"
    }
   ],
   "source": [
    "# Creates the pie chart based upon the values above\n",
    "# Automatically finds the percentages of each part of the pie chart\n",
    "plt.pie(totalfare_sum, explode=explode, labels=labels, colors=colors,\n",
    "        autopct=\"%1.1f%%\", shadow=True, startangle=140)\n",
    "\n",
    "plt.title('% of Total Fares by City Type')"
   ]
  },
  {
   "cell_type": "code",
   "execution_count": 113,
   "metadata": {},
   "outputs": [
    {
     "data": {
      "text/plain": [
       "type\n",
       "Rural        125\n",
       "Suburban     625\n",
       "Urban       1625\n",
       "Name: ride_id, dtype: int64"
      ]
     },
     "execution_count": 113,
     "metadata": {},
     "output_type": "execute_result"
    }
   ],
   "source": [
    "# get total ride by city type\n",
    "totalride_count = type_group['ride_id'].count()\n",
    "totalride_count\n"
   ]
  },
  {
   "cell_type": "code",
   "execution_count": 114,
   "metadata": {},
   "outputs": [
    {
     "data": {
      "text/plain": [
       "Text(0.5,1,'% of Total Rides by City Type')"
      ]
     },
     "execution_count": 114,
     "metadata": {},
     "output_type": "execute_result"
    },
    {
     "data": {
      "image/png": "[encoded data removed]",
      "text/plain": [
       "<matplotlib.figure.Figure at 0x1a1f7fc7f0>"
      ]
     },
     "metadata": {},
     "output_type": "display_data"
    }
   ],
   "source": [
    "# Creates the pie chart based upon the values above\n",
    "# Automatically finds the percentages of each part of the pie chart\n",
    "plt.pie(totalride_count, explode=explode, labels=labels, colors=colors,\n",
    "        autopct=\"%1.1f%%\", shadow=True, startangle=140)\n",
    "\n",
    "plt.title('% of Total Rides by City Type')"
   ]
  },
  {
   "cell_type": "code",
   "execution_count": 115,
   "metadata": {},
   "outputs": [
    {
     "data": {
      "text/plain": [
       "type\n",
       "Rural         662\n",
       "Suburban     8774\n",
       "Urban       60935\n",
       "Name: driver_count, dtype: int64"
      ]
     },
     "execution_count": 115,
     "metadata": {},
     "output_type": "execute_result"
    }
   ],
   "source": [
    "# get total drivers by city type\n",
    "totaldriver_sum = type_group['driver_count'].sum()\n",
    "totaldriver_sum"
   ]
  },
  {
   "cell_type": "code",
   "execution_count": 116,
   "metadata": {},
   "outputs": [
    {
     "data": {
      "text/plain": [
       "Text(0.5,1,'% of Total Drivers by City Type')"
      ]
     },
     "execution_count": 116,
     "metadata": {},
     "output_type": "execute_result"
    },
    {
     "data": {
      "image/png": "[encoded data removed]",
      "text/plain": [
       "<matplotlib.figure.Figure at 0x1a1f9a0c88>"
      ]
     },
     "metadata": {},
     "output_type": "display_data"
    }
   ],
   "source": [
    "# Creates the pie chart based upon the values above\n",
    "# Automatically finds the percentages of each part of the pie chart\n",
    "plt.pie(totaldriver_sum, explode=explode, labels=labels, colors=colors,\n",
    "        autopct=\"%1.1f%%\", shadow=True, startangle=140)\n",
    "\n",
    "plt.title('% of Total Drivers by City Type')"
   ]
  },
  {
   "cell_type": "code",
   "execution_count": null,
   "metadata": {},
   "outputs": [],
   "source": []
  }
 ],
 "metadata": {
  "kernelspec": {
   "display_name": "Python 3",
   "language": "python",
   "name": "python3"
  },
  "language_info": {
   "codemirror_mode": {
    "name": "ipython",
    "version": 3
   },
   "file_extension": ".py",
   "mimetype": "text/x-python",
   "name": "python",
   "nbconvert_exporter": "python",
   "pygments_lexer": "ipython3",
   "version": "3.6.4"
  }
 },
 "nbformat": 4,
 "nbformat_minor": 2
}
